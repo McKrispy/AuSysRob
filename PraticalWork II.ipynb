{
 "cells": [
  {
   "cell_type": "markdown",
   "id": "8f53b58e",
   "metadata": {},
   "source": [
    "# Forward kinematics for the modified Tinkerkit Braccio"
   ]
  },
  {
   "cell_type": "markdown",
   "id": "e5d0db59",
   "metadata": {},
   "source": [
    "## Define the basic DH transformation matrix"
   ]
  },
  {
   "cell_type": "code",
   "execution_count": 21,
   "id": "6cd4eef3",
   "metadata": {},
   "outputs": [
    {
     "data": {
      "text/latex": [
       "$\\displaystyle \\left[\\begin{matrix}\\cos{\\left(\\delta \\right)} & - \\sin{\\left(\\delta \\right)} \\cos{\\left(\\alpha \\right)} & \\sin{\\left(\\alpha \\right)} \\sin{\\left(\\delta \\right)} & a \\cos{\\left(\\delta \\right)}\\\\\\sin{\\left(\\delta \\right)} & \\cos{\\left(\\alpha \\right)} \\cos{\\left(\\delta \\right)} & - \\sin{\\left(\\alpha \\right)} \\cos{\\left(\\delta \\right)} & a \\sin{\\left(\\delta \\right)}\\\\0 & \\sin{\\left(\\alpha \\right)} & \\cos{\\left(\\alpha \\right)} & d\\\\0 & 0 & 0 & 1\\end{matrix}\\right]$"
      ],
      "text/plain": [
       "Matrix([\n",
       "[cos(delta), -sin(delta)*cos(alpha),  sin(alpha)*sin(delta), a*cos(delta)],\n",
       "[sin(delta),  cos(alpha)*cos(delta), -sin(alpha)*cos(delta), a*sin(delta)],\n",
       "[         0,             sin(alpha),             cos(alpha),            d],\n",
       "[         0,                      0,                      0,            1]])"
      ]
     },
     "execution_count": 21,
     "metadata": {},
     "output_type": "execute_result"
    }
   ],
   "source": [
    "from sympy import *\n",
    "# define the variables we are using within \n",
    "var('d,a,alpha,delta,Rz,Rx,Tz,Tx')\n",
    "\n",
    "Rx=Matrix([[1,0,0,0],\n",
    "          [0,cos(alpha),-sin(alpha),0],\n",
    "          [0,sin(alpha),cos(alpha),0],\n",
    "          [0,0,0,1]])\n",
    "Rz=Matrix([[cos(delta),-sin(delta),0,0],\n",
    "          [sin(delta),cos(delta),0,0],\n",
    "          [0,0,1,0],\n",
    "          [0,0,0,1]])\n",
    "Tz=Matrix([[1,0,0,0],\n",
    "          [0,1,0,0],\n",
    "          [0,0,1,d],\n",
    "          [0,0,0,1]])\n",
    "Tx=Matrix([[1,0,0,a],\n",
    "          [0,1,0,0],\n",
    "          [0,0,1,0],\n",
    "          [0,0,0,1]])\n",
    "TM=Tz.multiply(Rz).multiply(Tx).multiply(Rx)\n",
    "TM"
   ]
  },
  {
   "cell_type": "markdown",
   "id": "a15700a5",
   "metadata": {},
   "source": [
    "## Definition of the transformation function for each link"
   ]
  },
  {
   "cell_type": "code",
   "execution_count": 22,
   "id": "fcd84ba4",
   "metadata": {},
   "outputs": [
    {
     "data": {
      "text/latex": [
       "$\\displaystyle \\left[\\begin{matrix}275.0\\\\0\\\\285.0\\\\1.0\\end{matrix}\\right]$"
      ],
      "text/plain": [
       "Matrix([\n",
       "[275.0],\n",
       "[    0],\n",
       "[285.0],\n",
       "[  1.0]])"
      ]
     },
     "execution_count": 22,
     "metadata": {},
     "output_type": "execute_result"
    }
   ],
   "source": [
    "# function for converting degrees to radiant\n",
    "def d2r(deg):\n",
    "    return deg/180*pi\n",
    "\n",
    "def Tv5n4(delta5):\n",
    "    var('delta5,d5,alpha5,a5')\n",
    "    #DH-Parameter\n",
    "    d5=150 \n",
    "    #convert angle from degree to rad and compensate the offset from the home position\n",
    "    delta5=d2r(delta5) - pi/2 + 0\n",
    "    a5=0    \n",
    "    alpha5=0\n",
    "    return TM.subs({delta:delta5,d:d5,alpha:alpha5,a:a5})\n",
    "\n",
    "def Tv4n3(delta4):\n",
    "    var('delta4,d4,alpha4,a4')\n",
    "    #DH-Parameter\n",
    "    d4=0\n",
    "    #convert angle from degree to rad and compensate the offset from the home position\n",
    "    delta4= d2r(delta4) +0 - pi/2 \n",
    "    a4=90    \n",
    "    alpha4=-pi/2\n",
    "    return TM.subs({delta:delta4,d:d4,alpha:alpha4,a:a4})\n",
    "\n",
    "def Tv3n2(delta3):\n",
    "    var('delta3,d3,alpha3,a3')\n",
    "    #DH-Parameter\n",
    "    d3=0\n",
    "    #convert angle from degree to rad and compensate the offset from the home position\n",
    "    delta3=d2r(delta3) +pi/2 - pi \n",
    "    a3=125    \n",
    "    alpha3=0\n",
    "    return TM.subs({delta:delta3,d:d3,alpha:alpha3,a:a3})\n",
    "\n",
    "def Tv2n1(delta2):\n",
    "    var('delta2,d2,alpha2,a2')\n",
    "    #DH-Parameter\n",
    "    d2=0\n",
    "    #convert angle from degree to rad and compensate the offset from the home position\n",
    "    delta2= d2r(delta2) + pi/2 - pi/2\n",
    "    a2=125    \n",
    "    alpha2=0\n",
    "    return TM.subs({delta:delta2,d:d2,alpha:alpha2,a:a2})\n",
    "\n",
    "def Tv1n0(delta1):\n",
    "    var('delta1,d1,alpha1,a1')\n",
    "    #DH-Parameter\n",
    "    d1=70\n",
    "    #convert angle from degree to rad and compensate the offset from the home position\n",
    "    delta1=d2r(delta1) + pi - 0\n",
    "    a1=0    \n",
    "    alpha1=pi/2\n",
    "    return TM.subs({delta:delta1,d:d1,alpha:alpha1,a:a1})\n",
    "\n",
    "# Test\n",
    "P5=Matrix([0,0,0,1])\n",
    "P0=Tv1n0(0)*Tv2n1(90)*Tv3n2(180)*Tv4n3(0)*Tv5n4(0)*P5\n",
    "N(P0)\n"
   ]
  },
  {
   "cell_type": "markdown",
   "id": "a01bc8b4",
   "metadata": {},
   "source": [
    "## Function for calculating the TCP-position from the joint angles using the forward transformation"
   ]
  },
  {
   "cell_type": "code",
   "execution_count": 23,
   "id": "d9263d14",
   "metadata": {},
   "outputs": [
    {
     "data": {
      "text/latex": [
       "$\\displaystyle \\left[\\begin{matrix}-215.0\\\\0\\\\345.0\\\\1.0\\end{matrix}\\right]$"
      ],
      "text/plain": [
       "Matrix([\n",
       "[-215.0],\n",
       "[     0],\n",
       "[ 345.0],\n",
       "[   1.0]])"
      ]
     },
     "execution_count": 23,
     "metadata": {},
     "output_type": "execute_result"
    }
   ],
   "source": [
    "def BraccioForward(base, shoulder, elbow,wrist,twist):\n",
    "    return Tv1n0(base)*Tv2n1(shoulder)*Tv3n2(elbow)*Tv4n3(wrist)*Tv5n4(twist)\n",
    "\n",
    "# Test\n",
    "P0=BraccioForward(0,90,0,90,0)*Matrix([0,0,0,1])\n",
    "N(P0)"
   ]
  },
  {
   "cell_type": "markdown",
   "id": "456d3d1f",
   "metadata": {},
   "source": [
    "## Test the forward transformation with the Braccio"
   ]
  },
  {
   "cell_type": "code",
   "execution_count": 24,
   "id": "ab3d0168",
   "metadata": {},
   "outputs": [],
   "source": [
    "import serial\n",
    "import time\n",
    "s = serial.Serial('COM6', 115200, timeout=5) #zu AHuse: COM3\n",
    "time.sleep(3)"
   ]
  },
  {
   "cell_type": "markdown",
   "id": "9210bddd",
   "metadata": {},
   "source": [
    "Move to the Home position"
   ]
  },
  {
   "cell_type": "code",
   "execution_count": 25,
   "id": "351db725",
   "metadata": {},
   "outputs": [
    {
     "name": "stdout",
     "output_type": "stream",
     "text": [
      "OK\r\n",
      "\n"
     ]
    }
   ],
   "source": [
    "s.write(b'P0,90,180,90,0,50,50\\n')\n",
    "print(s.readline().decode())"
   ]
  },
  {
   "cell_type": "markdown",
   "id": "de2a7fd3",
   "metadata": {},
   "source": [
    "Define a function which calculates the gripper's tip position and actuates the robot with the given angles"
   ]
  },
  {
   "cell_type": "code",
   "execution_count": 7,
   "id": "7fb3c965",
   "metadata": {},
   "outputs": [],
   "source": [
    "def TestBraccioForward(base, shoulder, elbow,wrist,twist):\n",
    "    P0=BraccioForward(base, shoulder, elbow,wrist,twist)*Matrix([0,0,0,1])\n",
    "    print(pretty(N(P0)))\n",
    "    command=\"P\"+str(int(base))+\",\" \\\n",
    "                +str(int(shoulder))+\",\" \\\n",
    "                +str(int(elbow))+\",\"\\\n",
    "                +str(int(wrist))+\",\"\\\n",
    "                +str(int(twist))+\",130,50\\n\"\n",
    "    s.write(command.encode('ascii'))\n",
    "    return #Tv1n0(base)*Tv2n1(shoulder)*Tv3n2(elbow)\n",
    "    \n"
   ]
  },
  {
   "cell_type": "markdown",
   "id": "46e1b9e7",
   "metadata": {},
   "source": [
    "Put in values for the joint angles, the robot should move to the calculated position. Check with the caliper, if the position is correct."
   ]
  },
  {
   "cell_type": "code",
   "execution_count": 26,
   "id": "d10fe174",
   "metadata": {},
   "outputs": [
    {
     "name": "stdout",
     "output_type": "stream",
     "text": [
      "⎡-215.0⎤\n",
      "⎢      ⎥\n",
      "⎢  0   ⎥\n",
      "⎢      ⎥\n",
      "⎢345.0 ⎥\n",
      "⎢      ⎥\n",
      "⎣ 1.0  ⎦\n"
     ]
    }
   ],
   "source": [
    "TestBraccioForward(0,90,0,90,0)"
   ]
  },
  {
   "cell_type": "markdown",
   "id": "inverse-kinematics-title",
   "metadata": {},
   "source": [
    "# Inverse Kinematics for the Braccio"
   ]
  },
  {
   "cell_type": "markdown",
   "id": "inverse-kinematics-desc",
   "metadata": {},
   "source": [
    "## Import additional libraries for inverse kinematics"
   ]
  },
  {
   "cell_type": "code",
   "execution_count": null,
   "id": "import-libs",
   "metadata": {},
   "outputs": [],
   "source": [
    "import numpy as np\n",
    "from scipy.optimize import fsolve, minimize\n",
    "import math"
   ]
  },
  {
   "cell_type": "markdown",
   "id": "analytical-ik-title",
   "metadata": {},
   "source": [
    "## Analytical Inverse Kinematics Solution"
   ]
  },
  {
   "cell_type": "code",
   "execution_count": null,
   "id": "analytical-ik",
   "metadata": {},
   "outputs": [],
   "source": [
    "def BraccioInverse(x, y, z, twist=0):\n",
    "    \"\"\"\n",
    "    逆向运动学函数\n",
    "    输入：目标位置 (x, y, z) 和 twist角度（默认为0）\n",
    "    输出：(base, shoulder, elbow, wrist, twist) 角度值（度）\n",
    "    \"\"\"\n",
    "    \n",
    "    # 机械臂参数（从DH参数中提取）\n",
    "    d1 = 70   # base高度\n",
    "    a2 = 125  # shoulder连杆长度\n",
    "    a3 = 125  # elbow连杆长度\n",
    "    a4 = 90   # wrist连杆长度\n",
    "    d5 = 150  # 末端执行器长度\n",
    "    \n",
    "    # 1. 计算base角度\n",
    "    # 由于正向运动学中base有180度偏移，需要调整\n",
    "    base = math.atan2(-y, -x) * 180 / math.pi\n",
    "    \n",
    "    # 2. 计算在xz平面上的投影距离\n",
    "    r = math.sqrt(x**2 + y**2)\n",
    "    \n",
    "    # 3. 调整z坐标（考虑base高度）\n",
    "    z_adjusted = z - d1\n",
    "    \n",
    "    # 4. 计算目标点在2D平面的位置\n",
    "    # 考虑末端执行器是垂直的情况\n",
    "    target_r = r\n",
    "    target_z = z_adjusted - d5\n",
    "    \n",
    "    # 5. 使用几何方法求解2R机械臂问题\n",
    "    # 计算到达目标点的距离\n",
    "    D = math.sqrt((target_r - a4)**2 + target_z**2)\n",
    "    \n",
    "    # 检查是否可达\n",
    "    if D > (a2 + a3) or D < abs(a2 - a3):\n",
    "        print(f\"目标位置不可达！距离: {D}, 可达范围: [{abs(a2-a3)}, {a2+a3}]\")\n",
    "        return None\n",
    "    \n",
    "    # 使用余弦定理计算elbow角度\n",
    "    cos_theta3 = (D**2 - a2**2 - a3**2) / (2 * a2 * a3)\n",
    "    cos_theta3 = max(-1, min(1, cos_theta3))  # 限制在[-1, 1]范围内\n",
    "    \n",
    "    # 选择elbow-up配置\n",
    "    theta3 = math.acos(cos_theta3)\n",
    "    \n",
    "    # 计算shoulder角度\n",
    "    k1 = a2 + a3 * math.cos(theta3)\n",
    "    k2 = a3 * math.sin(theta3)\n",
    "    gamma = math.atan2(target_z, target_r - a4)\n",
    "    theta2 = gamma - math.atan2(k2, k1)\n",
    "    \n",
    "    # 计算wrist角度以保持末端执行器垂直\n",
    "    theta4 = -(theta2 + theta3)\n",
    "    \n",
    "    # 转换为度数并调整到机械臂的参考系\n",
    "    shoulder = 90 - theta2 * 180 / math.pi\n",
    "    elbow = 180 - theta3 * 180 / math.pi\n",
    "    wrist = 90 - theta4 * 180 / math.pi\n",
    "    \n",
    "    # 确保角度在合理范围内\n",
    "    shoulder = max(0, min(180, shoulder))\n",
    "    elbow = max(0, min(180, elbow))\n",
    "    wrist = max(0, min(180, wrist))\n",
    "    \n",
    "    return (base, shoulder, elbow, wrist, twist)"
   ]
  },
  {
   "cell_type": "markdown",
   "id": "numerical-ik-title",
   "metadata": {},
   "source": [
    "## Numerical Inverse Kinematics Solution (Backup)"
   ]
  },
  {
   "cell_type": "code",
   "execution_count": null,
   "id": "numerical-ik",
   "metadata": {},
   "outputs": [],
   "source": [
    "def BraccioInverseNumeric(x, y, z, twist=0, initial_guess=None):\n",
    "    \"\"\"\n",
    "    使用数值方法的逆向运动学函数（备选方案）\n",
    "    适用于解析解失败的情况\n",
    "    \"\"\"\n",
    "    \n",
    "    def objective(angles):\n",
    "        \"\"\"目标函数：最小化末端执行器位置误差\"\"\"\n",
    "        base, shoulder, elbow, wrist = angles\n",
    "        # 计算正向运动学\n",
    "        T = BraccioForward(base, shoulder, elbow, wrist, twist)\n",
    "        P = T * Matrix([0, 0, 0, 1])\n",
    "        px, py, pz = float(P[0]), float(P[1]), float(P[2])\n",
    "        # 计算误差\n",
    "        error = (px - x)**2 + (py - y)**2 + (pz - z)**2\n",
    "        return error\n",
    "    \n",
    "    # 初始猜测\n",
    "    if initial_guess is None:\n",
    "        initial_guess = [0, 90, 90, 90]\n",
    "    \n",
    "    # 关节限制\n",
    "    bounds = [\n",
    "        (-90, 90),    # base\n",
    "        (0, 180),     # shoulder\n",
    "        (0, 180),     # elbow\n",
    "        (0, 180)      # wrist\n",
    "    ]\n",
    "    \n",
    "    # 优化\n",
    "    result = minimize(objective, initial_guess, bounds=bounds, method='L-BFGS-B')\n",
    "    \n",
    "    if result.success and result.fun < 1.0:  # 误差阈值1mm\n",
    "        base, shoulder, elbow, wrist = result.x\n",
    "        return (base, shoulder, elbow, wrist, twist)\n",
    "    else:\n",
    "        print(f\"数值求解失败，误差: {math.sqrt(result.fun):.2f}mm\")\n",
    "        return None"
   ]
  },
  {
   "cell_type": "markdown",
   "id": "test-ik-title",
   "metadata": {},
   "source": [
    "## Test Inverse Kinematics"
   ]
  },
  {
   "cell_type": "code",
   "execution_count": null,
   "id": "test-ik",
   "metadata": {},
   "outputs": [],
   "source": [
    "def test_inverse_kinematics():\n",
    "    \"\"\"\n",
    "    测试逆向运动学函数\n",
    "    \"\"\"\n",
    "    print(\"=== 测试逆向运动学 ===\")\n",
    "    \n",
    "    # 测试点\n",
    "    test_points = [\n",
    "        (-215, 0, 345),  # 原始测试点\n",
    "        (200, 100, 300),\n",
    "        (0, 250, 200),\n",
    "        (-150, -150, 250)\n",
    "    ]\n",
    "    \n",
    "    for x, y, z in test_points:\n",
    "        print(f\"\\n目标位置: ({x}, {y}, {z})\")\n",
    "        \n",
    "        # 使用解析解\n",
    "        result = BraccioInverse(x, y, z)\n",
    "        if result:\n",
    "            base, shoulder, elbow, wrist, twist = result\n",
    "            print(f\"解析解: base={base:.1f}°, shoulder={shoulder:.1f}°, \"\n",
    "                  f\"elbow={elbow:.1f}°, wrist={wrist:.1f}°, twist={twist:.1f}°\")\n",
    "            \n",
    "            # 验证结果\n",
    "            T = BraccioForward(base, shoulder, elbow, wrist, twist)\n",
    "            P = T * Matrix([0, 0, 0, 1])\n",
    "            px, py, pz = float(P[0]), float(P[1]), float(P[2])\n",
    "            error = math.sqrt((px-x)**2 + (py-y)**2 + (pz-z)**2)\n",
    "            print(f\"验证: 实际位置=({px:.1f}, {py:.1f}, {pz:.1f}), 误差={error:.2f}mm\")\n",
    "            \n",
    "            # 如果误差太大，尝试数值解\n",
    "            if error > 10:\n",
    "                print(\"误差较大，尝试数值解...\")\n",
    "                result_num = BraccioInverseNumeric(x, y, z)\n",
    "                if result_num:\n",
    "                    base, shoulder, elbow, wrist, twist = result_num\n",
    "                    print(f\"数值解: base={base:.1f}°, shoulder={shoulder:.1f}°, \"\n",
    "                          f\"elbow={elbow:.1f}°, wrist={wrist:.1f}°, twist={twist:.1f}°\")\n",
    "        else:\n",
    "            print(\"解析解失败，尝试数值解...\")\n",
    "            result = BraccioInverseNumeric(x, y, z)\n",
    "            if result:\n",
    "                base, shoulder, elbow, wrist, twist = result\n",
    "                print(f\"数值解: base={base:.1f}°, shoulder={shoulder:.1f}°, \"\n",
    "                      f\"elbow={elbow:.1f}°, wrist={wrist:.1f}°, twist={twist:.1f}°\")\n",
    "\n",
    "# 运行测试\n",
    "test_inverse_kinematics()"
   ]
  },
  {
   "cell_type": "markdown",
   "id": "wrapper-func-title",
   "metadata": {},
   "source": [
    "## Wrapper Function for Robot Control"
   ]
  },
  {
   "cell_type": "code",
   "execution_count": null,
   "id": "wrapper-func",
   "metadata": {},
   "outputs": [],
   "source": [
    "def MoveBraccioToPosition(x, y, z, twist=0, use_numeric=False):\n",
    "    \"\"\"\n",
    "    将机械臂移动到指定的3D位置\n",
    "    参数:\n",
    "        x, y, z: 目标位置坐标（毫米）\n",
    "        twist: 末端执行器旋转角度（默认0）\n",
    "        use_numeric: 是否使用数值解（默认False）\n",
    "    返回:\n",
    "        True: 成功\n",
    "        False: 失败\n",
    "    \"\"\"\n",
    "    print(f\"\\n移动到位置: ({x}, {y}, {z})\")\n",
    "    \n",
    "    # 获取逆向运动学解\n",
    "    if use_numeric:\n",
    "        result = BraccioInverseNumeric(x, y, z, twist)\n",
    "    else:\n",
    "        result = BraccioInverse(x, y, z, twist)\n",
    "        # 如果解析解失败，自动尝试数值解\n",
    "        if not result:\n",
    "            print(\"解析解失败，自动切换到数值解...\")\n",
    "            result = BraccioInverseNumeric(x, y, z, twist)\n",
    "    \n",
    "    if result:\n",
    "        base, shoulder, elbow, wrist, twist = result\n",
    "        print(f\"关节角度: base={base:.1f}°, shoulder={shoulder:.1f}°, \"\n",
    "              f\"elbow={elbow:.1f}°, wrist={wrist:.1f}°, twist={twist:.1f}°\")\n",
    "        \n",
    "        # 发送命令到机器人\n",
    "        TestBraccioForward(base, shoulder, elbow, wrist, twist)\n",
    "        return True\n",
    "    else:\n",
    "        print(\"无法到达目标位置\")\n",
    "        return False"
   ]
  },
  {
   "cell_type": "markdown",
   "id": "demo-title",
   "metadata": {},
   "source": [
    "## Demo: Move Robot to Different Positions"
   ]
  },
  {
   "cell_type": "code",
   "execution_count": null,
   "id": "demo",
   "metadata": {},
   "outputs": [],
   "source": [
    "# 演示：移动机器人到不同位置\n",
    "demo_positions = [\n",
    "    (200, 0, 300),    # 前方\n",
    "    (0, 200, 300),    # 左侧\n",
    "    (-200, 0, 300),   # 后方\n",
    "    (0, -200, 300),   # 右侧\n",
    "    (150, 150, 250),  # 左前方低位\n",
    "]\n",
    "\n",
    "print(\"开始演示逆向运动学控制...\\n\")\n",
    "\n",
    "# 首先回到home位置\n",
    "print(\"回到Home位置...\")\n",
    "TestBraccioForward(0, 90, 180, 90, 0)\n",
    "time.sleep(2)\n",
    "\n",
    "# 依次移动到各个位置\n",
    "for i, (x, y, z) in enumerate(demo_positions):\n",
    "    print(f\"\\n--- 位置 {i+1}/{len(demo_positions)} ---\")\n",
    "    if MoveBraccioToPosition(x, y, z):\n",
    "        time.sleep(3)  # 等待机器人移动完成\n",
    "    else:\n",
    "        print(f\"跳过位置 ({x}, {y}, {z})\")\n",
    "\n",
    "print(\"\\n演示完成！\")"
   ]
  },
  {
   "cell_type": "code",
   "execution_count": 20,
   "id": "ddca4e3e",
   "metadata": {},
   "outputs": [],
   "source": [
    "s.close()"
   ]
  },
  {
   "cell_type": "code",
   "execution_count": null,
   "id": "9c0fd358",
   "metadata": {},
   "outputs": [],
   "source": []
  }
 ],
 "metadata": {
  "kernelspec": {
   "display_name": "Python 3 (ipykernel)",
   "language": "python",
   "name": "python3"
  },
  "language_info": {
   "codemirror_mode": {
    "name": "ipython",
    "version": 3
   },
   "file_extension": ".py",
   "mimetype": "text/x-python",
   "name": "python",
   "nbconvert_exporter": "python",
   "pygments_lexer": "ipython3",
   "version": "3.10.0"
  }
 },
 "nbformat": 4,
 "nbformat_minor": 5
}